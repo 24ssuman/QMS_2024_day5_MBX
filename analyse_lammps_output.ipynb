{
 "cells": [
  {
   "cell_type": "code",
   "execution_count": null,
   "id": "85557253-6cae-4779-bf8c-049d81a338cf",
   "metadata": {},
   "outputs": [],
   "source": [
    "import os\n",
    "import pandas as pd\n",
    "import matplotlib.pyplot as plt\n",
    "\n",
    "# Define your base directory\n",
    "MB_nrg_tutorial_dir= os.getcwd()\n",
    "\n",
    "# tutorial_dir=\"bulk_water\" \n",
    "tutorial_dir=\"ion_water\"\n",
    "\n",
    "base_dir= os.path.join(MB_nrg_tutorial_dir,tutorial_dir)\n",
    "\n",
    "# Define different output file path\n",
    "thermo_file_path = os.path.join(base_dir, 'thermo.out')"
   ]
  },
  {
   "cell_type": "markdown",
   "id": "5ce83bcf-8ece-48fc-9c27-48ad7cd3855a",
   "metadata": {},
   "source": [
    "# Defination of different plotting functions"
   ]
  },
  {
   "cell_type": "code",
   "execution_count": null,
   "id": "7a529fac-05db-4333-a90c-172eb95adcf3",
   "metadata": {},
   "outputs": [],
   "source": [
    "# Column names based on the required plots\n",
    "required_columns = ['time', 'temp', 'pe',  'density', 'press']\n",
    "\n",
    "# Function to load the data\n",
    "def load_data(thermo_file_path):\n",
    "    # Reading the data and assigning only necessary column names\n",
    "    df = pd.read_csv(thermo_file_path, delim_whitespace=True, comment='#', header=None, usecols=[1, 2, 5, 7, 15])\n",
    "    df.columns = required_columns\n",
    "    return df\n",
    "\n",
    "# Function to plot time vs. a specified column\n",
    "def plot_time_vs_column(df, column_name, y_label, y_unit):\n",
    "    plt.figure()\n",
    "    plt.plot(df['time'], df[column_name], label=column_name)\n",
    "    plt.xlabel('Time (ps)')\n",
    "    plt.ylabel(f'{y_label} ({y_unit})')\n",
    "    plt.title(f'Time vs {y_label}')\n",
    "    plt.legend()\n",
    "    plt.show()"
   ]
  },
  {
   "cell_type": "code",
   "execution_count": null,
   "id": "9eb052b2-f550-409f-baf1-5a6a04e9717d",
   "metadata": {},
   "outputs": [],
   "source": [
    "def plot_water_rdf(file_path, expt_file_path, timestep, nbins=100):\n",
    "    with open(file_path, 'r') as file:\n",
    "        lines = file.readlines()\n",
    "    \n",
    "    # Find the line with the specified timestep and number of bins\n",
    "    start_line = 0\n",
    "    for i, line in enumerate(lines):\n",
    "        if line.startswith('#'):\n",
    "            continue\n",
    "        if str(timestep) in line.split() and str(nbins) in line.split():\n",
    "            start_line = i + 1\n",
    "            break\n",
    "    \n",
    "    # Read the data from the next 'nbins' lines\n",
    "    rdf_data = []\n",
    "    for line in lines[start_line:start_line + nbins]:\n",
    "        if line.strip():  # Ignore empty lines\n",
    "            rdf_data.append([float(x) for x in line.split()])\n",
    "    \n",
    "    # Convert to DataFrame\n",
    "    df_rdf = pd.DataFrame(rdf_data)\n",
    "    \n",
    "    # Read the experimental RDF data\n",
    "    df_expt_rdf = pd.read_csv(expt_file_path, delim_whitespace=True, header=None, names=['distance', 'g(r_OO)'])\n",
    "    \n",
    "    # Plot the RDF data (using only the 2nd and 3rd columns)\n",
    "    plt.figure()\n",
    "    plt.plot(df_rdf.iloc[:, 1], df_rdf.iloc[:, 2], label='Obtained')\n",
    "    plt.xlabel('Distance (Å)')\n",
    "    plt.xlim(0, 8)\n",
    "    plt.ylim(0, 2.7)\n",
    "    plt.ylabel(r'$g(r_{OO})$')\n",
    "\n",
    "    # Plot experimental RDF with shading under the curve and no line\n",
    "    plt.fill_between(df_expt_rdf['distance'], df_expt_rdf['g(r_OO)'], alpha=0.5, color='gray', label='Experimental')\n",
    "\n",
    "    plt.legend()\n",
    "    plt.show()"
   ]
  },
  {
   "cell_type": "code",
   "execution_count": null,
   "id": "292f49c5-9433-4590-ab49-ebd206d05e4c",
   "metadata": {},
   "outputs": [],
   "source": [
    "def plot_ion_rdf(file_path, timestep, nbins=100):\n",
    "    with open(file_path, 'r') as file:\n",
    "        lines = file.readlines()\n",
    "    \n",
    "    # Find the line with the specified timestep and number of bins\n",
    "    start_line = 0\n",
    "    for i, line in enumerate(lines):\n",
    "        if line.startswith('#'):\n",
    "            continue\n",
    "        if str(timestep) in line.split() and str(nbins) in line.split():\n",
    "            start_line = i + 1\n",
    "            break\n",
    "    \n",
    "    # Read the data from the next 'nbins' lines\n",
    "    rdf_data = []\n",
    "    for line in lines[start_line:start_line + nbins]:\n",
    "        if line.strip():  # Ignore empty lines\n",
    "            rdf_data.append([float(x) for x in line.split()])\n",
    "    \n",
    "    # Convert to DataFrame\n",
    "    df_rdf = pd.DataFrame(rdf_data)\n",
    "    \n",
    "    \n",
    "    # Plot the RDF data (using only the 2nd and 3rd columns)\n",
    "    plt.figure()\n",
    "    plt.plot(df_rdf.iloc[:, 1], df_rdf.iloc[:, 4], label='Obtained')\n",
    "    plt.xlabel('Distance (Å)')\n",
    "    plt.xlim(0, 8)\n",
    "    # plt.ylim(0, 5)\n",
    "    plt.ylabel(r'$g(r_{OO})$')\n",
    "\n",
    "    plt.legend()\n",
    "    plt.show()"
   ]
  },
  {
   "cell_type": "code",
   "execution_count": null,
   "id": "6e721821-381a-4f8e-a15b-cb975f45c04a",
   "metadata": {},
   "outputs": [],
   "source": [
    "def plot_msd_water(file_path):\n",
    "    # Load the data, ignoring lines starting with #\n",
    "    df = pd.read_csv(file_path, delim_whitespace=True, comment='#', header=None)\n",
    "    \n",
    "    # Extracting the required columns\n",
<<<<<<< HEAD
    "    time = df[0]/1e3 # fs to ps\n",
=======
    "    time = df[0]/1e3 #fs to ps\n",
>>>>>>> 86e5ae2 (notebook updated)
    "    msd = df[4]\n",
    "    \n",
    "    # Plotting the data\n",
    "    plt.figure()\n",
    "    plt.plot(time, msd, label='Mean Square Displacement')\n",
    "    plt.xlabel('Time (ps)')\n",
    "    plt.ylabel('Mean Square Displacement (Å²)')\n",
    "    plt.title('MSD of Water molecule')\n",
    "    plt.legend()\n",
    "    plt.show()\n",
    "    \n",
    "def plot_msd_ion(file_path):\n",
    "    # Load the data, ignoring lines starting with #\n",
    "    df = pd.read_csv(file_path, delim_whitespace=True, comment='#', header=None)\n",
    "    \n",
    "    # Extracting the required columns\n",
<<<<<<< HEAD
    "    time = df[0]/1e3 # fs to ps\n",
=======
    "    time = df[0]/1e3 #fs to ps\n",
>>>>>>> 86e5ae2 (notebook updated)
    "    msd = df[4]\n",
    "    \n",
    "    # Plotting the data\n",
    "    plt.figure()\n",
    "    plt.plot(time, msd, label='Mean Square Displacement')\n",
    "    plt.xlabel('Time (ps)')\n",
    "    plt.xlim(time.min(), time.max())\n",
    "    plt.ylabel('Mean Square Displacement (Å²)')\n",
    "    plt.title('MSD of Ion molecule')\n",
    "    plt.legend()\n",
    "    plt.show()"
   ]
  },
  {
   "cell_type": "code",
   "execution_count": null,
   "id": "68df91a5-3617-4661-addc-65c0ae16ade0",
   "metadata": {},
   "outputs": [],
   "source": [
    "def plot_MBnrg(file_path):\n",
    "    # Load the data, ignoring lines starting with #\n",
    "    df = pd.read_csv(file_path, delim_whitespace=True, comment='#', header=None)\n",
    "    \n",
    "    # Extracting the first four columns\n",
    "    df = df.iloc[:, :4]\n",
    "    df.columns = ['time', 'e1bpip', 'e2bpip', 'e3bpip']\n",
    "    \n",
    "    # Plotting the data\n",
    "    plt.figure()\n",
    "    plt.plot(df['time']/1e3, df['e1bpip'], label='E1b_PIP')\n",
    "    plt.plot(df['time']/1e3, df['e2bpip'], label='E2b_PIP')\n",
    "    plt.plot(df['time']/1e3, df['e3bpip'], label='E3b_PIP')\n",
    "    \n",
    "    plt.xlabel('Time (ps)')\n",
    "    plt.xlim(min(df['time']/1e3), max(df['time']/1e3))\n",
    "    plt.ylabel('Energy (kcal/mol)')\n",
    "    plt.title('PIP energies')\n",
    "    plt.legend()\n",
    "    plt.show()"
   ]
  },
  {
   "cell_type": "markdown",
   "id": "ab834ea7-42a8-4564-8e0c-eb93f97b0097",
   "metadata": {},
   "source": [
    "# Plotting Different Thermodynamic Quantities"
   ]
  },
  {
   "cell_type": "code",
   "execution_count": null,
   "id": "a433214d-5125-4bd4-a17c-32ebfa17df77",
   "metadata": {},
   "outputs": [],
   "source": [
    "# Load the data\n",
    "df = load_data(thermo_file_path)\n",
    "\n",
    "# Plot time vs temp, pe, enthalpy, density\n",
    "plot_time_vs_column(df, 'temp', 'Temperature', 'K')\n",
    "plot_time_vs_column(df, 'pe', 'Potential Energy', 'kcal/mol')\n",
    "plot_time_vs_column(df, 'density', 'Density', 'g/cm³')"
   ]
  },
  {
   "cell_type": "code",
   "execution_count": null,
   "id": "34f63111-6094-4a16-91b3-5069e05cf357",
   "metadata": {},
   "outputs": [],
   "source": [
    "analyse_dir=os.path.join(base_dir,\"analyse_traj\")\n",
    "\n",
    "rdf_file_path = os.path.join(analyse_dir, 'rdf.out')\n",
    "expt_rdf_file_path = os.path.join(MB_nrg_tutorial_dir,\"OwOw_expt.rdf\")\n",
    "water_msd_file = os.path.join(analyse_dir, 'water_msd.out')  \n",
    "ion_msd_file = os.path.join(analyse_dir, 'na_msd.out')\n",
    "mbx_out_file = os.path.join(base_dir, 'mbx_thermo.out') "
   ]
  },
  {
   "cell_type": "code",
   "execution_count": null,
   "id": "b6a565e2-f161-4c91-91d0-1460b9793f51",
   "metadata": {},
   "outputs": [],
   "source": [
    "plot_water_rdf(rdf_file_path, expt_rdf_file_path,timestep=100)"
   ]
  },
  {
   "cell_type": "code",
   "execution_count": null,
   "id": "9cb09b42-e7c9-4899-a80e-99a777778cfd",
   "metadata": {},
   "outputs": [],
   "source": [
    "plot_ion_rdf(rdf_file_path,timestep=500)"
   ]
  },
  {
   "cell_type": "code",
   "execution_count": null,
   "id": "15aa4a2e-f08a-4701-a46f-d01d56df0f6b",
   "metadata": {},
   "outputs": [],
   "source": [
    "plot_msd_water(water_msd_file)"
   ]
  },
  {
   "cell_type": "code",
   "execution_count": null,
   "id": "8311e48f-8c33-4106-9848-d68e02e9615d",
   "metadata": {},
   "outputs": [],
   "source": [
    "plot_msd_ion(ion_msd_file)"
   ]
  },
  {
   "cell_type": "markdown",
   "id": "c55dc527-4bea-4f42-88c8-b9550323ee4f",
   "metadata": {
    "tags": []
   },
   "source": [
    "# MB-nrg Analysis"
   ]
  },
  {
   "cell_type": "code",
   "execution_count": null,
   "id": "f24daedd-4ad6-489f-bb14-11e0ab9dd5be",
   "metadata": {},
   "outputs": [],
   "source": [
    "plot_MBnrg(mbx_out_file)"
   ]
  },
  {
   "cell_type": "markdown",
   "id": "60a9a1cd-dfc9-46d7-bd3d-08b383acce00",
   "metadata": {},
   "source": [
    "# Plotting Equilibrated Trajectory"
   ]
  },
  {
   "cell_type": "code",
   "execution_count": null,
   "id": "8d628735-36d2-4fe3-ac4a-a3ba965c440d",
   "metadata": {},
   "outputs": [],
   "source": [
    "eq_dir=os.path.join(base_dir,\"analyse_equilibriated_traj\")\n",
    "\n",
    "thermo_file_path = os.path.join(eq_dir, 'thermo.out')\n",
    "rdf_file_path = os.path.join(eq_dir, 'rdf.out')\n",
    "expt_rdf_file_path = os.path.join(MB_nrg_tutorial_dir,\"OwOw_expt.rdf\")\n",
    "water_msd_file = os.path.join(eq_dir, 'water_msd.out')  \n",
    "ion_msd_file = os.path.join(eq_dir, 'na_msd.out')\n",
    "mbx_out_file = os.path.join(eq_dir, 'mbx_thermo.out') "
   ]
  },
  {
   "cell_type": "code",
   "execution_count": null,
   "id": "ba6a47c4-65fd-4865-8f2e-c097131755e5",
   "metadata": {},
   "outputs": [],
   "source": [
    "# Load the data\n",
    "df = load_data(thermo_file_path)\n",
    "\n",
    "# Plot time vs temp, pe, enthalpy, density\n",
    "plot_time_vs_column(df, 'temp', 'Temperature', 'K')\n",
    "plot_time_vs_column(df, 'pe', 'Potential Energy', 'kcal/mol')\n",
    "plot_time_vs_column(df, 'density', 'Density', 'g/cm³')"
   ]
  },
  {
   "cell_type": "code",
   "execution_count": null,
   "id": "679c020f-92a5-4467-964b-7678a8c46bd0",
   "metadata": {},
   "outputs": [],
   "source": [
    "plot_water_rdf(rdf_file_path, expt_rdf_file_path,timestep=200000)"
   ]
  },
  {
   "cell_type": "code",
   "execution_count": null,
   "id": "5f62c4e7-ad10-432c-ba62-38218c1dc7e4",
   "metadata": {},
   "outputs": [],
   "source": [
    "plot_ion_rdf(rdf_file_path,timestep=200000)"
   ]
  },
  {
   "cell_type": "code",
   "execution_count": null,
   "id": "dd6b0008-61de-4fab-8166-49b82ee2ea40",
   "metadata": {},
   "outputs": [],
   "source": [
    "plot_msd_water(water_msd_file)"
   ]
  },
  {
   "cell_type": "code",
   "execution_count": null,
   "id": "54df40e0-3327-49a5-ad61-818620712ddc",
   "metadata": {},
   "outputs": [],
   "source": [
    "# Run only for ion_water folder\n",
    "plot_msd_ion(ion_msd_file)"
   ]
  },
  {
   "cell_type": "code",
   "execution_count": null,
   "id": "d09bdc57-ab24-469e-93d2-1bf365b337fc",
   "metadata": {},
   "outputs": [],
   "source": [
    "plot_MBnrg(mbx_out_file)"
   ]
  },
  {
   "cell_type": "code",
   "execution_count": null,
   "id": "e000288e-49bc-4e5c-8055-d44d4ee60a94",
   "metadata": {},
   "outputs": [],
   "source": []
  }
 ],
 "metadata": {
  "kernelspec": {
   "display_name": "Python 3 (ipykernel)",
   "language": "python",
   "name": "python3"
  },
  "language_info": {
   "codemirror_mode": {
    "name": "ipython",
    "version": 3
   },
   "file_extension": ".py",
   "mimetype": "text/x-python",
   "name": "python",
   "nbconvert_exporter": "python",
   "pygments_lexer": "ipython3",
   "version": "3.9.13"
  }
 },
 "nbformat": 4,
 "nbformat_minor": 5
}
