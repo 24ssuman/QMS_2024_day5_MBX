{
 "cells": [
  {
   "cell_type": "code",
   "execution_count": null,
   "id": "85557253-6cae-4779-bf8c-049d81a338cf",
   "metadata": {},
   "outputs": [],
   "source": [
    "import os\n",
    "import pandas as pd\n",
    "import matplotlib.pyplot as plt\n",
    "\n",
    "# Define your base directory\n",
    "base_dir=\"/ocean/projects/che240027p/ssaha4/day5/MB-nrg_tutorial/bulk_water/analyse_equilibriated_traj\"\n",
    "\n",
    "# Define different output file path\n",
    "thermo_file_path = os.path.join(base_dir, 'thermo.out')\n",
    "rdf_file_path = os.path.join(base_dir, 'rdf.out')\n",
    "expt_rdf_file_path = \"/ocean/projects/che240027p/ssaha4/day5/OwOw_expt.rdf\"\n",
    "water_msd_file = os.path.join(base_dir, 'water_msd.out')  \n",
    "ion_msd_file = os.path.join(base_dir, 'na_msd.out')"
   ]
  },
  {
   "cell_type": "markdown",
   "id": "ab834ea7-42a8-4564-8e0c-eb93f97b0097",
   "metadata": {},
   "source": [
    "# Plotting Different Thermodynamic Quantities"
   ]
  },
  {
   "cell_type": "code",
   "execution_count": null,
   "id": "7a529fac-05db-4333-a90c-172eb95adcf3",
   "metadata": {},
   "outputs": [],
   "source": [
    "# Column names based on the required plots\n",
    "required_columns = ['time', 'temp', 'pe', 'enthalpy', 'density', 'press']\n",
    "\n",
    "# Function to load the data\n",
    "def load_data(thermo_file_path):\n",
    "    # Reading the data and assigning only necessary column names\n",
    "    df = pd.read_csv(thermo_file_path, delim_whitespace=True, comment='#', header=None, usecols=[1, 2, 5, 6, 7, 15])\n",
    "    df.columns = required_columns\n",
    "    return df\n",
    "\n",
    "# Function to plot time vs. a specified column\n",
    "def plot_time_vs_column(df, column_name, y_label, y_unit):\n",
    "    plt.figure()\n",
    "    plt.plot(df['time']/1e3, df[column_name], label=column_name)\n",
    "    plt.xlabel('Time (ps)')\n",
    "    plt.ylabel(f'{y_label} ({y_unit})')\n",
    "    plt.title(f'Time vs {y_label}')\n",
    "    plt.legend()\n",
    "    plt.show()\n",
    "\n",
    "\n",
    "# Load the data\n",
    "df = load_data(thermo_file_path)\n",
    "\n",
    "# Plot time vs temp, pe, enthalpy, density\n",
    "plot_time_vs_column(df, 'temp', 'Temperature', 'K')\n",
    "plot_time_vs_column(df, 'pe', 'Potential Energy', 'kcal/mol')\n",
    "plot_time_vs_column(df, 'enthalpy', 'Enthalpy', 'kcal/mol')\n",
    "plot_time_vs_column(df, 'density', 'Density', 'g/cm³')"
   ]
  },
  {
   "cell_type": "code",
   "execution_count": null,
   "id": "34f63111-6094-4a16-91b3-5069e05cf357",
   "metadata": {},
   "outputs": [],
   "source": [
    "analyse_dir=\"/ocean/projects/che240027p/ssaha4/day5/MB-nrg_tutorial/bulk_water/analyse_equilibriated_traj/\"\n",
    "\n",
    "rdf_file_path = os.path.join(analyse_dir, 'rdf.out')\n",
    "expt_rdf_file_path = \"/ocean/projects/che240027p/ssaha4/day5/OwOw_expt.rdf\"\n",
    "water_msd_file = os.path.join(analyse_dir, 'water_msd.out')  \n",
    "ion_msd_file = os.path.join(analyse_dir, 'na_msd.out')"
   ]
  },
  {
   "cell_type": "code",
   "execution_count": null,
   "id": "b6a565e2-f161-4c91-91d0-1460b9793f51",
   "metadata": {},
   "outputs": [],
   "source": [
    "def plot_water_rdf(file_path, expt_file_path, timestep=200000, nbins=100):\n",
    "    with open(file_path, 'r') as file:\n",
    "        lines = file.readlines()\n",
    "    \n",
    "    # Find the line with the specified timestep and number of bins\n",
    "    start_line = 0\n",
    "    for i, line in enumerate(lines):\n",
    "        if line.startswith('#'):\n",
    "            continue\n",
    "        if str(timestep) in line.split() and str(nbins) in line.split():\n",
    "            start_line = i + 1\n",
    "            break\n",
    "    \n",
    "    # Read the data from the next 'nbins' lines\n",
    "    rdf_data = []\n",
    "    for line in lines[start_line:start_line + nbins]:\n",
    "        if line.strip():  # Ignore empty lines\n",
    "            rdf_data.append([float(x) for x in line.split()])\n",
    "    \n",
    "    # Convert to DataFrame\n",
    "    df_rdf = pd.DataFrame(rdf_data)\n",
    "    \n",
    "    # Read the experimental RDF data\n",
    "    df_expt_rdf = pd.read_csv(expt_file_path, delim_whitespace=True, header=None, names=['distance', 'g(r_OO)'])\n",
    "    \n",
    "    # Plot the RDF data (using only the 2nd and 3rd columns)\n",
    "    plt.figure()\n",
    "    plt.plot(df_rdf.iloc[:, 1], df_rdf.iloc[:, 2], label='Obtained')\n",
    "    plt.xlabel('Distance (Å)')\n",
    "    plt.xlim(0, 8)\n",
    "    plt.ylim(0, 2.7)\n",
    "    plt.ylabel(r'$g(r_{OO})$')\n",
    "\n",
    "    # Plot experimental RDF with shading under the curve and no line\n",
    "    plt.fill_between(df_expt_rdf['distance'], df_expt_rdf['g(r_OO)'], alpha=0.5, color='gray', label='Experimental')\n",
    "\n",
    "    plt.legend()\n",
    "    plt.show()\n",
    "\n",
    "# Equilibriated rdf file: final step = 200000\n",
    "plot_water_rdf(rdf_file_path, expt_rdf_file_path)"
   ]
  },
  {
   "cell_type": "code",
   "execution_count": null,
   "id": "15aa4a2e-f08a-4701-a46f-d01d56df0f6b",
   "metadata": {},
   "outputs": [],
   "source": [
    "def plot_msd_water(file_path):\n",
    "    # Load the data, ignoring lines starting with #\n",
    "    df = pd.read_csv(file_path, delim_whitespace=True, comment='#', header=None)\n",
    "    \n",
    "    # Extracting the required columns\n",
    "    time = df[0]/1e3 # fs to ps\n",
    "    msd = df[3]\n",
    "    \n",
    "    # Plotting the data\n",
    "    plt.figure()\n",
    "    plt.plot(time, msd, label='Mean Square Displacement')\n",
    "    plt.xlabel('Time (ps)')\n",
    "    plt.ylabel('Mean Square Displacement (Å²)')\n",
    "    plt.title('MSD of Water molecule')\n",
    "    plt.legend()\n",
    "    plt.show()\n",
    "\n",
    "plot_msd_water(water_msd_file)"
   ]
  },
  {
   "cell_type": "code",
   "execution_count": null,
   "id": "8311e48f-8c33-4106-9848-d68e02e9615d",
   "metadata": {},
   "outputs": [],
   "source": [
    "def plot_msd_ion(file_path):\n",
    "    # Load the data, ignoring lines starting with #\n",
    "    df = pd.read_csv(file_path, delim_whitespace=True, comment='#', header=None)\n",
    "    \n",
    "    # Extracting the required columns\n",
    "    time = df[0]/1e3 # fs to ps\n",
    "    msd = df[3]\n",
    "    \n",
    "    # Plotting the data\n",
    "    plt.figure()\n",
    "    plt.plot(time, msd, label='Mean Square Displacement')\n",
    "    plt.xlabel('Time (ps)')\n",
    "    plt.xlim(time.min(), time.max())\n",
    "    plt.ylabel('Mean Square Displacement (Å²)')\n",
    "    plt.title('MSD of Ion molecule')\n",
    "    plt.legend()\n",
    "    plt.show()\n",
    "\n",
    "plot_msd_ion(ion_msd_file)"
   ]
  },
  {
   "cell_type": "markdown",
   "id": "c55dc527-4bea-4f42-88c8-b9550323ee4f",
   "metadata": {
    "tags": []
   },
   "source": [
    "# MB-nrg Analysis"
   ]
  },
  {
   "cell_type": "code",
   "execution_count": null,
   "id": "f24daedd-4ad6-489f-bb14-11e0ab9dd5be",
   "metadata": {},
   "outputs": [],
   "source": [
    "def plot_MBnrg(file_path):\n",
    "    # Load the data, ignoring lines starting with #\n",
    "    df = pd.read_csv(file_path, delim_whitespace=True, comment='#', header=None)\n",
    "    \n",
    "    # Extracting the first four columns\n",
    "    df = df.iloc[:, :4]\n",
    "    df.columns = ['time', 'e1bpip', 'e2bpip', 'e3bpip']\n",
    "    \n",
    "    # Plotting the data\n",
    "    plt.figure()\n",
    "    plt.plot(df['time']/1e3, df['e1bpip'], label='E1b_PIP')\n",
    "    plt.plot(df['time']/1e3, df['e2bpip'], label='E2b_PIP')\n",
    "    plt.plot(df['time']/1e3, df['e3bpip'], label='E3b_PIP')\n",
    "    \n",
    "    plt.xlabel('Time (ps)')\n",
    "    plt.xlim(min(df['time']/1e3), max(df['time']/1e3))\n",
    "    plt.ylabel('Energy (kcal/mol)')\n",
    "    plt.title('PIP energies')\n",
    "    plt.legend()\n",
    "    plt.show()\n",
    "\n",
    "# Example usage\n",
    "mbx_out_file = os.path.join(base_dir, 'mbx_thermo.out') \n",
    "plot_MBnrg(mbx_out_file)"
   ]
  },
  {
   "cell_type": "code",
   "execution_count": null,
   "id": "49d0b37f-78df-4beb-a451-b600c6871fd7",
   "metadata": {},
   "outputs": [],
   "source": []
  }
 ],
 "metadata": {
  "kernelspec": {
   "display_name": "Python 3 (ipykernel)",
   "language": "python",
   "name": "python3"
  },
  "language_info": {
   "codemirror_mode": {
    "name": "ipython",
    "version": 3
   },
   "file_extension": ".py",
   "mimetype": "text/x-python",
   "name": "python",
   "nbconvert_exporter": "python",
   "pygments_lexer": "ipython3",
   "version": "3.9.13"
  }
 },
 "nbformat": 4,
 "nbformat_minor": 5
}
